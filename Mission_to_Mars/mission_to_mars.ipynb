{
 "cells": [
  {
   "cell_type": "code",
   "execution_count": 1,
   "id": "a730d387-e4ec-4b5b-b103-e7bee7b6f171",
   "metadata": {},
   "outputs": [],
   "source": [
    "from splinter import Browser\n",
    "from bs4 import BeautifulSoup as bs\n",
    "from webdriver_manager.chrome import ChromeDriverManager\n",
    "import pandas as pd"
   ]
  },
  {
   "cell_type": "code",
   "execution_count": 2,
   "id": "000801e8-03f6-4a31-a8d6-64bb11161fc2",
   "metadata": {},
   "outputs": [
    {
     "name": "stderr",
     "output_type": "stream",
     "text": [
      "[WDM] - \n",
      "\n",
      "[WDM] - ====== WebDriver manager ======\n",
      "[WDM] - Current google-chrome version is 95.0.4638\n",
      "[WDM] - Get LATEST driver version for 95.0.4638\n",
      "[WDM] - Driver [/Users/Mimi/.wdm/drivers/chromedriver/mac64/95.0.4638.54/chromedriver] found in cache\n"
     ]
    }
   ],
   "source": [
    "executablepath={'executable_path':ChromeDriverManager().install()}\n",
    "browser=Browser('chrome',**executablepath,headless=False)"
   ]
  },
  {
   "cell_type": "code",
   "execution_count": 3,
   "id": "51b5f814-d40f-45e9-8f4c-ecb6e31545f4",
   "metadata": {},
   "outputs": [],
   "source": [
    "url='https://redplanetscience.com/'\n",
    "browser.visit(url)"
   ]
  },
  {
   "cell_type": "code",
   "execution_count": 4,
   "id": "db35c705-aedf-483c-b9c1-82432b2d3cc9",
   "metadata": {},
   "outputs": [
    {
     "name": "stdout",
     "output_type": "stream",
     "text": [
      "MAVEN Maps Electric Currents around Mars that are Fundamental to Atmospheric Loss\n",
      "Five years after NASA’s MAVEN spacecraft entered into orbit around Mars, data from the mission has led to the creation of a map of electric current systems in the Martian atmosphere.\n",
      "----------------\n",
      "Mars Is Getting a New Robotic Meteorologist\n",
      "Sensors on NASA's Perseverance will help prepare for future human exploration by taking weather measurements and studying dust particles.\n",
      "----------------\n",
      "Mars 2020 Unwrapped and Ready for More Testing\n",
      "In time-lapse video, bunny-suited engineers remove the inner layer of protective foil on NASA's Mars 2020 rover after it was relocated for testing.\n",
      "----------------\n",
      "NASA's Mars 2020 Rover Closer to Getting Its Name\n",
      "155 students from across the U.S. have been chosen as semifinalists in NASA's essay contest to name the Mars 2020 rover, and see it launch from Cape Canaveral this July.\n",
      "----------------\n",
      "NASA's Curiosity Mars Rover Takes a New Selfie Before Record Climb\n",
      "Along with capturing an image before its steepest ascent ever, the robotic explorer filmed its \"selfie stick,\" or robotic arm, in action.\n",
      "----------------\n",
      "Air Deliveries Bring NASA's Perseverance Mars Rover Closer to Launch\n",
      "A NASA Wallops Flight Facility cargo plane transported more than two tons of equipment — including the rover's sample collection tubes — to Florida for this summer's liftoff.\n",
      "----------------\n",
      "Deadline Closing for Names to Fly on NASA's Next Mars Rover\n",
      "You have until Sept. 30 to send your names to Mars aboard the Mars 2020 rover. \n",
      "----------------\n",
      "Naming a NASA Mars Rover Can Change Your Life\n",
      "Want to name the robotic scientist NASA is sending to Mars in 2020? The student who named Curiosity — the rover currently exploring Mars — will tell you this is an opportunity worth taking.\n",
      "----------------\n",
      "NASA InSight's 'Mole' Is Out of Sight\n",
      "Now that the heat probe is just below the Martian surface, InSight's arm will scoop some additional soil on top to help it keep digging so it can take Mars' temperature.\n",
      "----------------\n",
      "NASA's Curiosity Takes Selfie With 'Mary Anning' on the Red Planet\n",
      "The Mars rover has drilled three samples of rock in this clay-enriched region since arriving in July.\n",
      "----------------\n",
      "5 Hidden Gems Are Riding Aboard NASA's Perseverance Rover\n",
      "The symbols, mottos, and small objects added to the agency's newest Mars rover serve a variety of purposes, from functional to decorative.\n",
      "----------------\n",
      "Space History Is Made in This NASA Robot Factory\n",
      "From rockets to rovers, JPL's Spacecraft Assembly Facility has been at the center of robotic spaceflight. Here's a closer look at what makes it so special.\n",
      "----------------\n",
      "The Extraordinary Sample-Gathering System of NASA's Perseverance Mars Rover\n",
      "Two astronauts collected Moon rocks on Apollo 11. It will take three robotic systems working together to gather up the first Mars rock samples for return to Earth.\n",
      "----------------\n",
      "NASA Adds Return Sample Scientists to Mars 2020 Leadership Team\n",
      "The leadership council for Mars 2020 science added two new members who represent the interests of scientists destined to handle and study the first samples from Red Planet.\n",
      "----------------\n",
      "NASA's New Mars Rover Will Use X-Rays to Hunt Fossils\n",
      "PIXL, an instrument on the end of the Perseverance rover's arm, will search for chemical fingerprints left by ancient microbes.\n",
      "----------------\n"
     ]
    }
   ],
   "source": [
    "\n",
    "html=browser.html\n",
    "soup=bs(html,'html.parser')\n",
    "\n",
    "all_text=soup.find_all('div',class_='list_text')\n",
    "\n",
    "for item in all_text:\n",
    "    news_title=item.find('div',class_='content_title').text\n",
    "    news_p=item.find('div',class_='article_teaser_body').text\n",
    "    print(news_title)\n",
    "    print(news_p)\n",
    "    print('----------------')\n",
    "\n",
    "browser.quit()    "
   ]
  },
  {
   "cell_type": "code",
   "execution_count": 5,
   "id": "87c7106d-8913-4167-937d-bc673982120b",
   "metadata": {},
   "outputs": [
    {
     "name": "stderr",
     "output_type": "stream",
     "text": [
      "[WDM] - \n",
      "\n",
      "[WDM] - ====== WebDriver manager ======\n",
      "[WDM] - Current google-chrome version is 95.0.4638\n",
      "[WDM] - Get LATEST driver version for 95.0.4638\n",
      "[WDM] - Driver [/Users/Mimi/.wdm/drivers/chromedriver/mac64/95.0.4638.54/chromedriver] found in cache\n"
     ]
    }
   ],
   "source": [
    "executablepath={'executable_path':ChromeDriverManager().install()}\n",
    "browser=Browser('chrome',**executablepath,headless=False)"
   ]
  },
  {
   "cell_type": "code",
   "execution_count": 6,
   "id": "cb458acf-94a3-4335-9d93-f65405fe2fe3",
   "metadata": {},
   "outputs": [],
   "source": [
    "url='https://spaceimages-mars.com/'\n",
    "browser.visit(url)"
   ]
  },
  {
   "cell_type": "code",
   "execution_count": 7,
   "id": "4a97082c-b016-4c00-9e59-a93a13470c69",
   "metadata": {},
   "outputs": [],
   "source": [
    "html=browser.html\n",
    "soup=bs(html,'html.parser')"
   ]
  },
  {
   "cell_type": "code",
   "execution_count": 8,
   "id": "0c45ca9d-19f9-452a-b9b7-61399d47a22c",
   "metadata": {},
   "outputs": [
    {
     "name": "stdout",
     "output_type": "stream",
     "text": [
      "https://spaceimages-mars.com/image/featured/mars3.jpg\n"
     ]
    }
   ],
   "source": [
    "image=soup.find('img',class_='headerimage')\n",
    "image_url=image['src']\n",
    "featured_image_url=url+image_url\n",
    "print(featured_image_url)\n",
    "\n",
    "browser.quit()"
   ]
  },
  {
   "cell_type": "code",
   "execution_count": 41,
   "id": "3ac068b5-042e-4791-8948-b7ba479e3295",
   "metadata": {},
   "outputs": [
    {
     "data": {
      "text/html": [
       "<div>\n",
       "<style scoped>\n",
       "    .dataframe tbody tr th:only-of-type {\n",
       "        vertical-align: middle;\n",
       "    }\n",
       "\n",
       "    .dataframe tbody tr th {\n",
       "        vertical-align: top;\n",
       "    }\n",
       "\n",
       "    .dataframe thead th {\n",
       "        text-align: right;\n",
       "    }\n",
       "</style>\n",
       "<table border=\"1\" class=\"dataframe\">\n",
       "  <thead>\n",
       "    <tr style=\"text-align: right;\">\n",
       "      <th></th>\n",
       "      <th>0</th>\n",
       "      <th>1</th>\n",
       "      <th>2</th>\n",
       "    </tr>\n",
       "  </thead>\n",
       "  <tbody>\n",
       "    <tr>\n",
       "      <th>0</th>\n",
       "      <td>Mars - Earth Comparison</td>\n",
       "      <td>Mars</td>\n",
       "      <td>Earth</td>\n",
       "    </tr>\n",
       "    <tr>\n",
       "      <th>1</th>\n",
       "      <td>Diameter:</td>\n",
       "      <td>6,779 km</td>\n",
       "      <td>12,742 km</td>\n",
       "    </tr>\n",
       "    <tr>\n",
       "      <th>2</th>\n",
       "      <td>Mass:</td>\n",
       "      <td>6.39 × 10^23 kg</td>\n",
       "      <td>5.97 × 10^24 kg</td>\n",
       "    </tr>\n",
       "    <tr>\n",
       "      <th>3</th>\n",
       "      <td>Moons:</td>\n",
       "      <td>2</td>\n",
       "      <td>1</td>\n",
       "    </tr>\n",
       "    <tr>\n",
       "      <th>4</th>\n",
       "      <td>Distance from Sun:</td>\n",
       "      <td>227,943,824 km</td>\n",
       "      <td>149,598,262 km</td>\n",
       "    </tr>\n",
       "    <tr>\n",
       "      <th>5</th>\n",
       "      <td>Length of Year:</td>\n",
       "      <td>687 Earth days</td>\n",
       "      <td>365.24 days</td>\n",
       "    </tr>\n",
       "    <tr>\n",
       "      <th>6</th>\n",
       "      <td>Temperature:</td>\n",
       "      <td>-87 to -5 °C</td>\n",
       "      <td>-88 to 58°C</td>\n",
       "    </tr>\n",
       "  </tbody>\n",
       "</table>\n",
       "</div>"
      ],
      "text/plain": [
       "                         0                1                2\n",
       "0  Mars - Earth Comparison             Mars            Earth\n",
       "1                Diameter:         6,779 km        12,742 km\n",
       "2                    Mass:  6.39 × 10^23 kg  5.97 × 10^24 kg\n",
       "3                   Moons:                2                1\n",
       "4       Distance from Sun:   227,943,824 km   149,598,262 km\n",
       "5          Length of Year:   687 Earth days      365.24 days\n",
       "6             Temperature:     -87 to -5 °C      -88 to 58°C"
      ]
     },
     "execution_count": 41,
     "metadata": {},
     "output_type": "execute_result"
    }
   ],
   "source": [
    "url='https://galaxyfacts-mars.com/'\n",
    "tables=pd.read_html(url)\n",
    "df=tables[0]\n",
    "df"
   ]
  },
  {
   "cell_type": "code",
   "execution_count": 42,
   "id": "370cabd3-b579-4565-a7fa-385598c0802c",
   "metadata": {},
   "outputs": [
    {
     "data": {
      "text/html": [
       "<div>\n",
       "<style scoped>\n",
       "    .dataframe tbody tr th:only-of-type {\n",
       "        vertical-align: middle;\n",
       "    }\n",
       "\n",
       "    .dataframe tbody tr th {\n",
       "        vertical-align: top;\n",
       "    }\n",
       "\n",
       "    .dataframe thead th {\n",
       "        text-align: right;\n",
       "    }\n",
       "</style>\n",
       "<table border=\"1\" class=\"dataframe\">\n",
       "  <thead>\n",
       "    <tr style=\"text-align: right;\">\n",
       "      <th></th>\n",
       "      <th>Mars</th>\n",
       "      <th>Earth</th>\n",
       "    </tr>\n",
       "    <tr>\n",
       "      <th>Description</th>\n",
       "      <th></th>\n",
       "      <th></th>\n",
       "    </tr>\n",
       "  </thead>\n",
       "  <tbody>\n",
       "    <tr>\n",
       "      <th>Mars - Earth Comparison</th>\n",
       "      <td>Mars</td>\n",
       "      <td>Earth</td>\n",
       "    </tr>\n",
       "    <tr>\n",
       "      <th>Diameter:</th>\n",
       "      <td>6,779 km</td>\n",
       "      <td>12,742 km</td>\n",
       "    </tr>\n",
       "    <tr>\n",
       "      <th>Mass:</th>\n",
       "      <td>6.39 × 10^23 kg</td>\n",
       "      <td>5.97 × 10^24 kg</td>\n",
       "    </tr>\n",
       "    <tr>\n",
       "      <th>Moons:</th>\n",
       "      <td>2</td>\n",
       "      <td>1</td>\n",
       "    </tr>\n",
       "    <tr>\n",
       "      <th>Distance from Sun:</th>\n",
       "      <td>227,943,824 km</td>\n",
       "      <td>149,598,262 km</td>\n",
       "    </tr>\n",
       "    <tr>\n",
       "      <th>Length of Year:</th>\n",
       "      <td>687 Earth days</td>\n",
       "      <td>365.24 days</td>\n",
       "    </tr>\n",
       "    <tr>\n",
       "      <th>Temperature:</th>\n",
       "      <td>-87 to -5 °C</td>\n",
       "      <td>-88 to 58°C</td>\n",
       "    </tr>\n",
       "  </tbody>\n",
       "</table>\n",
       "</div>"
      ],
      "text/plain": [
       "                                    Mars            Earth\n",
       "Description                                              \n",
       "Mars - Earth Comparison             Mars            Earth\n",
       "Diameter:                       6,779 km        12,742 km\n",
       "Mass:                    6.39 × 10^23 kg  5.97 × 10^24 kg\n",
       "Moons:                                 2                1\n",
       "Distance from Sun:        227,943,824 km   149,598,262 km\n",
       "Length of Year:           687 Earth days      365.24 days\n",
       "Temperature:                -87 to -5 °C      -88 to 58°C"
      ]
     },
     "execution_count": 42,
     "metadata": {},
     "output_type": "execute_result"
    }
   ],
   "source": [
    "df.rename(columns={0:'Description',\n",
    "                  1:'Mars',\n",
    "                  2:'Earth'},inplace=True)\n",
    "\n",
    "\n",
    "df.set_index('Description',inplace=True)\n",
    "df"
   ]
  },
  {
   "cell_type": "code",
   "execution_count": 43,
   "id": "bc43a420-ca78-435d-a993-cfedc6f41e6b",
   "metadata": {},
   "outputs": [],
   "source": [
    "html_table=df.to_html()"
   ]
  },
  {
   "cell_type": "code",
   "execution_count": 44,
   "id": "6cd0ac8f-1f79-4d6d-a703-b11b4dade670",
   "metadata": {},
   "outputs": [
    {
     "data": {
      "text/plain": [
       "'<table border=\"1\" class=\"dataframe\">  <thead>    <tr style=\"text-align: right;\">      <th></th>      <th>Mars</th>      <th>Earth</th>    </tr>    <tr>      <th>Description</th>      <th></th>      <th></th>    </tr>  </thead>  <tbody>    <tr>      <th>Mars - Earth Comparison</th>      <td>Mars</td>      <td>Earth</td>    </tr>    <tr>      <th>Diameter:</th>      <td>6,779 km</td>      <td>12,742 km</td>    </tr>    <tr>      <th>Mass:</th>      <td>6.39 × 10^23 kg</td>      <td>5.97 × 10^24 kg</td>    </tr>    <tr>      <th>Moons:</th>      <td>2</td>      <td>1</td>    </tr>    <tr>      <th>Distance from Sun:</th>      <td>227,943,824 km</td>      <td>149,598,262 km</td>    </tr>    <tr>      <th>Length of Year:</th>      <td>687 Earth days</td>      <td>365.24 days</td>    </tr>    <tr>      <th>Temperature:</th>      <td>-87 to -5 °C</td>      <td>-88 to 58°C</td>    </tr>  </tbody></table>'"
      ]
     },
     "execution_count": 44,
     "metadata": {},
     "output_type": "execute_result"
    }
   ],
   "source": [
    "html_table.replace('\\n','')"
   ]
  },
  {
   "cell_type": "code",
   "execution_count": 14,
   "id": "43082020-7300-489b-adf8-4135cd64b131",
   "metadata": {},
   "outputs": [],
   "source": [
    "df.to_html('table.html')"
   ]
  },
  {
   "cell_type": "code",
   "execution_count": 276,
   "id": "a644d5f7-eed7-4df4-b70d-6a5172826114",
   "metadata": {},
   "outputs": [
    {
     "name": "stderr",
     "output_type": "stream",
     "text": [
      "[WDM] - \n",
      "\n",
      "[WDM] - ====== WebDriver manager ======\n",
      "[WDM] - Current google-chrome version is 95.0.4638\n",
      "[WDM] - Get LATEST driver version for 95.0.4638\n",
      "[WDM] - Driver [/Users/Mimi/.wdm/drivers/chromedriver/mac64/95.0.4638.54/chromedriver] found in cache\n"
     ]
    }
   ],
   "source": [
    "executablepath={'executable_path':ChromeDriverManager().install()}\n",
    "browser=Browser('chrome',**executablepath,headless=False)"
   ]
  },
  {
   "cell_type": "code",
   "execution_count": 277,
   "id": "929e2597-7c3d-4347-a51a-9f119dd1e584",
   "metadata": {},
   "outputs": [],
   "source": [
    "url='https://marshemispheres.com/'\n",
    "browser.visit(url)\n",
    "\n"
   ]
  },
  {
   "cell_type": "code",
   "execution_count": 278,
   "id": "214e7c1a-dfa6-41d3-8762-b0f0a9adf808",
   "metadata": {},
   "outputs": [
    {
     "name": "stdout",
     "output_type": "stream",
     "text": [
      "--------------------------------------------------\n",
      "\n",
      "Cerberus Hemisphere Enhanced\n",
      "\n",
      "https://marshemispheres.com/images/f5e372a36edfa389625da6d0cc25d905_cerberus_enhanced.tif_full.jpg\n",
      "--------------------------------------------------\n",
      "\n",
      "Schiaparelli Hemisphere Enhanced\n",
      "\n",
      "https://marshemispheres.com/images/3778f7b43bbbc89d6e3cfabb3613ba93_schiaparelli_enhanced.tif_full.jpg\n",
      "--------------------------------------------------\n",
      "\n",
      "Syrtis Major Hemisphere Enhanced\n",
      "\n",
      "https://marshemispheres.com/images/555e6403a6ddd7ba16ddb0e471cadcf7_syrtis_major_enhanced.tif_full.jpg\n",
      "--------------------------------------------------\n",
      "\n",
      "Valles Marineris Hemisphere Enhanced\n",
      "\n",
      "https://marshemispheres.com/images/b3c7c6c9138f57b4756be9b9c43e3a48_valles_marineris_enhanced.tif_full.jpg\n"
     ]
    }
   ],
   "source": [
    "html=browser.html\n",
    "soup=bs(html,'html.parser')\n",
    "\n",
    "hemisphere_image_urls=[]\n",
    "\n",
    "results=soup.find_all('div',class_='description')\n",
    "\n",
    "for result in results:\n",
    "    try:\n",
    "        link=result.find('a')\n",
    "        title=link.text\n",
    "        \n",
    "        # setting up new page link for image\"\n",
    "        newpage_link=url+link['href']\n",
    "        browser.visit(newpage_link)\n",
    "        html=browser.html\n",
    "        soup=bs(html,'html.parser')\n",
    "        \n",
    "        #div=soup.find('div',id='wide-image')\n",
    "        img= soup.find('img',class_='wide-image')\n",
    "        src=img['src']\n",
    "        img_url=url+src\n",
    "        \n",
    "        if (title and img_url):\n",
    "            #printing results\"\n",
    "            print('-'*50)\n",
    "            print(title)\n",
    "            print(img_url)\n",
    "            \n",
    "            #creating dictionary\"\n",
    "            \n",
    "            hem_dict={'title':title,\n",
    "                      'img_url':img_url}\n",
    "            \n",
    "            hemisphere_image_urls.append(hem_dict)\n",
    "            \n",
    "        \n",
    "    except Exception as e:\n",
    "        \n",
    "        print(e)\n",
    "        \n",
    "browser.quit()      \n"
   ]
  },
  {
   "cell_type": "code",
   "execution_count": 279,
   "id": "be6749a5-a627-4556-93e5-6185d6ba8de6",
   "metadata": {},
   "outputs": [
    {
     "data": {
      "text/plain": [
       "[{'title': '\\nCerberus Hemisphere Enhanced\\n',\n",
       "  'img_url': 'https://marshemispheres.com/images/f5e372a36edfa389625da6d0cc25d905_cerberus_enhanced.tif_full.jpg'},\n",
       " {'title': '\\nSchiaparelli Hemisphere Enhanced\\n',\n",
       "  'img_url': 'https://marshemispheres.com/images/3778f7b43bbbc89d6e3cfabb3613ba93_schiaparelli_enhanced.tif_full.jpg'},\n",
       " {'title': '\\nSyrtis Major Hemisphere Enhanced\\n',\n",
       "  'img_url': 'https://marshemispheres.com/images/555e6403a6ddd7ba16ddb0e471cadcf7_syrtis_major_enhanced.tif_full.jpg'},\n",
       " {'title': '\\nValles Marineris Hemisphere Enhanced\\n',\n",
       "  'img_url': 'https://marshemispheres.com/images/b3c7c6c9138f57b4756be9b9c43e3a48_valles_marineris_enhanced.tif_full.jpg'}]"
      ]
     },
     "execution_count": 279,
     "metadata": {},
     "output_type": "execute_result"
    }
   ],
   "source": [
    "hemisphere_image_urls"
   ]
  },
  {
   "cell_type": "code",
   "execution_count": 280,
   "id": "3d4417dd-c6f7-4a43-a869-c11eb5d7708f",
   "metadata": {},
   "outputs": [],
   "source": [
    "# Create dictionary for all info scraped from sources above\n",
    "mars_dict={\n",
    "    \"news_title\":news_title,\n",
    "    \"news_p\":news_p,\n",
    "    \"featured_image_url\":featured_image_url,\n",
    "    \"fact_table\":html_table,\n",
    "    \"hemisphere_images\":hemisphere_image_urls\n",
    "}\n"
   ]
  },
  {
   "cell_type": "code",
   "execution_count": null,
   "id": "ebd9d592-aedb-4001-9e9f-35f9591fcfcc",
   "metadata": {},
   "outputs": [],
   "source": []
  }
 ],
 "metadata": {
  "kernelspec": {
   "display_name": "Python 3",
   "language": "python",
   "name": "python3"
  },
  "language_info": {
   "codemirror_mode": {
    "name": "ipython",
    "version": 3
   },
   "file_extension": ".py",
   "mimetype": "text/x-python",
   "name": "python",
   "nbconvert_exporter": "python",
   "pygments_lexer": "ipython3",
   "version": "3.6.13"
  }
 },
 "nbformat": 4,
 "nbformat_minor": 5
}
